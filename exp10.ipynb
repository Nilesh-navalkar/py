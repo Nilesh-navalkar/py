{
 "cells": [
  {
   "cell_type": "code",
   "execution_count": 6,
   "metadata": {},
   "outputs": [
    {
     "name": "stdout",
     "output_type": "stream",
     "text": [
      "roll no = 1 name = nate\n",
      "roll no = 2 name = river\n",
      "roll no = 3 name = l lawlite\n",
      "roll no = 4 name = light yagami\n",
      "roll no = 5 name = dark\n",
      "\n"
     ]
    }
   ],
   "source": [
    "rollno=[]\n",
    "name=[]\n",
    "n=5\n",
    "for i in range(0,n):\n",
    "    r=int(input(\"enter roll no.\"))\n",
    "    nm=input(\"enter name\")\n",
    "    rollno.append(r)\n",
    "    name.append(nm)\n",
    "\n",
    "f=open(\"exp10.txt\",\"a\")\n",
    "for i in range(0,n):\n",
    "    s=\"roll no = \"+str(rollno[i])+\" name = \"+str(name[i])+\"\\n\"\n",
    "    f.write(s)\n",
    "f.close()\n",
    "f=open(\"exp10.txt\",\"r\")\n",
    "print(f.read())\n",
    "f.close()"
   ]
  },
  {
   "cell_type": "code",
   "execution_count": 7,
   "metadata": {},
   "outputs": [
    {
     "name": "stdout",
     "output_type": "stream",
     "text": [
      "Lorem ipsum dolor sit, amet consectetur adipisicing elit. Similique quae voluptates tenetur explicabo obcaecati id eius excepturi animi laborum esse repellendus et, autem magni laudantium culpa ipsa perferendis quam recusandae hic! Aut ad impedit qui? Nihil tempore harum nam laboriosam consequuntur, fugit quidem suscipit deleniti quod, eum voluptate, explicabo expedita vel repellat magni aperiam quaerat? Excepturi vero necessitatibus optio quibusdam, cumque quas vel inventore porro magni sed assumenda accusantium hic voluptatem quam commodi exercitationem enim ea? Quibusdam necessitatibus, sint nobis beatae officiis nesciunt reiciendis ullam iste rerum quaerat dolorum asperiores suscipit accusantium corporis temporibus optio earum!\n"
     ]
    }
   ],
   "source": [
    "src=input(\"enter source file\")\n",
    "des=input(\"enter destination file\")\n",
    "src=src+\".txt\"\n",
    "des=des+\".txt\"\n",
    "\n",
    "sf=open(src,\"r\")\n",
    "df=open(des,\"w\")\n",
    "\n",
    "df.write(sf.read())\n",
    "df.close()\n",
    "sf.close()\n",
    "\n",
    "df=open(des,\"r\")\n",
    "print(df.read())\n",
    "df.close()"
   ]
  },
  {
   "cell_type": "code",
   "execution_count": null,
   "metadata": {},
   "outputs": [],
   "source": []
  }
 ],
 "metadata": {
  "interpreter": {
   "hash": "4267f7e5d3adce8267fadf13e8d6a83ecb20dae9e50378c07b1d9410e1128995"
  },
  "kernelspec": {
   "display_name": "Python 3.10.4 64-bit",
   "language": "python",
   "name": "python3"
  },
  "language_info": {
   "codemirror_mode": {
    "name": "ipython",
    "version": 3
   },
   "file_extension": ".py",
   "mimetype": "text/x-python",
   "name": "python",
   "nbconvert_exporter": "python",
   "pygments_lexer": "ipython3",
   "version": "3.10.4"
  },
  "orig_nbformat": 4
 },
 "nbformat": 4,
 "nbformat_minor": 2
}
