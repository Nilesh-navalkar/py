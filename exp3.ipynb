{
 "cells": [
  {
   "cell_type": "code",
   "execution_count": 2,
   "metadata": {},
   "outputs": [
    {
     "name": "stdout",
     "output_type": "stream",
     "text": [
      "[1 1 1 1 1]\n"
     ]
    }
   ],
   "source": [
    "import numpy as np\n",
    "\n",
    "l=[]\n",
    "n=int(input(\"enter number of ones \"))\n",
    "for i in range(0,n):\n",
    "    l.append(1)\n",
    "allones=np.array(l)\n",
    "print(allones)"
   ]
  },
  {
   "cell_type": "code",
   "execution_count": 9,
   "metadata": {},
   "outputs": [
    {
     "name": "stdout",
     "output_type": "stream",
     "text": [
      "(3, 3)\n",
      "row exists\n",
      "row1 does not exists\n"
     ]
    }
   ],
   "source": [
    "arr=np.array([[1,2,3],[4,5,6],[7,8,9]])\n",
    "print(arr.shape)\n",
    "\n",
    "row=[4,5,6]\n",
    "row1=[12,25,36]\n",
    "if row in arr:\n",
    "    print(\"row exists\")\n",
    "else:\n",
    "    print(\"row does not exists\")\n",
    "\n",
    "if row1 in arr:\n",
    "    print(\"row1 exists\")\n",
    "else:\n",
    "    print(\"row1 does not exists\")"
   ]
  },
  {
   "cell_type": "code",
   "execution_count": 14,
   "metadata": {},
   "outputs": [
    {
     "name": "stdout",
     "output_type": "stream",
     "text": [
      "Addition of matrices:\n",
      " [[ 2  2  3]\n",
      " [ 4  6  6]\n",
      " [ 7  8 10]]\n",
      "multiplication of matrices:\n",
      " [[1 2 3]\n",
      " [4 5 6]\n",
      " [7 8 9]]\n"
     ]
    }
   ],
   "source": [
    "mat1=np.array([[1,2,3],[4,5,6],[7,8,9]])\n",
    "mat2=np.array([[1,0,0],[0,1,0],[0,0,1]])\n",
    "\n",
    "print(\"Addition of matrices:\\n\",mat1+mat2)\n",
    "print(\"multiplication of matrices:\\n\",mat1@mat2)\n"
   ]
  },
  {
   "cell_type": "code",
   "execution_count": 26,
   "metadata": {},
   "outputs": [
    {
     "name": "stdout",
     "output_type": "stream",
     "text": [
      "most repeated element: 1\n"
     ]
    }
   ],
   "source": [
    "import statistics as stats\n",
    "iden=np.array([1,2,4,7,1,6,3,1,8,9,1,6,9,1])\n",
    "print(\"most repeated element:\",stats.mode(iden))\n"
   ]
  },
  {
   "cell_type": "code",
   "execution_count": 23,
   "metadata": {},
   "outputs": [
    {
     "name": "stdout",
     "output_type": "stream",
     "text": [
      "[1 2 3 4 5 6 7 8 9]\n"
     ]
    }
   ],
   "source": [
    "mat=np.array([[1,2,3],[4,5,6],[7,8,9]])\n",
    "#print(mat.reshape(1,9))\n",
    "print(mat.flatten())"
   ]
  },
  {
   "cell_type": "code",
   "execution_count": 32,
   "metadata": {},
   "outputs": [
    {
     "name": "stdout",
     "output_type": "stream",
     "text": [
      "columnwise sum :  [12 15 18]\n"
     ]
    }
   ],
   "source": [
    "mat=np.array([[1,2,3],[4,5,6],[7,8,9]])\n",
    "print(\"columnwise sum : \",np.sum(mat, axis = 0))"
   ]
  },
  {
   "cell_type": "code",
   "execution_count": 29,
   "metadata": {},
   "outputs": [
    {
     "name": "stdout",
     "output_type": "stream",
     "text": [
      "avg =  4.214285714285714\n",
      "variance =  9.45408163265306\n",
      "standard deviation =  3.0747490357186975\n"
     ]
    }
   ],
   "source": [
    "iden=np.array([1,2,4,7,1,6,3,1,8,9,1,6,9,1])\n",
    "\n",
    "print(\"avg = \",np.mean(iden))\n",
    "print(\"variance = \",np.var(iden))\n",
    "print(\"standard deviation = \",np.std(iden))"
   ]
  },
  {
   "cell_type": "code",
   "execution_count": 31,
   "metadata": {},
   "outputs": [
    {
     "name": "stdout",
     "output_type": "stream",
     "text": [
      "['t o o' 'm a n y' 'p e n d i n g' 'a s s i g n m e n t s']\n"
     ]
    }
   ],
   "source": [
    "this=np.array([\"too\",\"many\",\"pending\",\"assignments\"])\n",
    "print(np.char.join(\" \", this))"
   ]
  },
  {
   "cell_type": "code",
   "execution_count": null,
   "metadata": {},
   "outputs": [],
   "source": []
  },
  {
   "cell_type": "code",
   "execution_count": 40,
   "metadata": {},
   "outputs": [
    {
     "data": {
      "image/png": "[encoded data removed]",
      "text/plain": [
       "<Figure size 432x288 with 1 Axes>"
      ]
     },
     "metadata": {
      "needs_background": "light"
     },
     "output_type": "display_data"
    }
   ],
   "source": [
    "import matplotlib.pyplot  as mp\n",
    "\n",
    "x=np.array([1,2])\n",
    "y=np.array([3,4])\n",
    "mp.xlabel(\"x axis\")\n",
    "mp.ylabel(\"y axis\")\n",
    "mp.plot(x,y,\"o-g\")\n",
    "mp.show()"
   ]
  },
  {
   "cell_type": "code",
   "execution_count": 43,
   "metadata": {},
   "outputs": [
    {
     "name": "stdout",
     "output_type": "stream",
     "text": [
      "[[7 8 9]\n",
      " [4 5 6]\n",
      " [1 2 3]]\n"
     ]
    }
   ],
   "source": [
    "mat=np.array([[9,8,7],[6,5,4],[3,2,1]])\n",
    "mat.sort()\n",
    "print(mat)"
   ]
  }
 ],
 "metadata": {
  "interpreter": {
   "hash": "4267f7e5d3adce8267fadf13e8d6a83ecb20dae9e50378c07b1d9410e1128995"
  },
  "kernelspec": {
   "display_name": "Python 3.10.4 64-bit",
   "language": "python",
   "name": "python3"
  },
  "language_info": {
   "codemirror_mode": {
    "name": "ipython",
    "version": 3
   },
   "file_extension": ".py",
   "mimetype": "text/x-python",
   "name": "python",
   "nbconvert_exporter": "python",
   "pygments_lexer": "ipython3",
   "version": "3.10.4"
  },
  "orig_nbformat": 4
 },
 "nbformat": 4,
 "nbformat_minor": 2
}
