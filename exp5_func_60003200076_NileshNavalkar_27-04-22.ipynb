{
 "cells": [
  {
   "cell_type": "markdown",
   "id": "f5b4ef7b",
   "metadata": {},
   "source": [
    "## x=int(input(\"enter number >10 : \"))\n",
    "assert x>10, \"wrong\" \n",
    "print(x)"
   ]
  },
  {
   "cell_type": "code",
   "execution_count": 5,
   "id": "a2ff4002",
   "metadata": {},
   "outputs": [
    {
     "name": "stdout",
     "output_type": "stream",
     "text": [
      "enter number >10 : 22\n",
      "22\n"
     ]
    }
   ],
   "source": [
    "x=int(input(\"enter number >10 : \"))\n",
    "assert x>10, \"custom wrong error\" \n",
    "print(x)"
   ]
  },
  {
   "cell_type": "code",
   "execution_count": 9,
   "id": "c1f1df8e",
   "metadata": {},
   "outputs": [
    {
     "name": "stdout",
     "output_type": "stream",
     "text": [
      "enter number in range 50 to 100 : 56\n",
      "56\n"
     ]
    }
   ],
   "source": [
    "x=int(input(\"enter number in range 50 to 100 : \"))\n",
    "assert x<100 and x>50, \"custom wrong error\"\n",
    "print(x)"
   ]
  },
  {
   "cell_type": "code",
   "execution_count": 14,
   "id": "29c13314",
   "metadata": {},
   "outputs": [
    {
     "name": "stdout",
     "output_type": "stream",
     "text": [
      "9\n"
     ]
    }
   ],
   "source": [
    "#anon functions/lambda\n",
    "\n",
    "f=lambda a,b,c : (a+b)*c\n",
    "\n",
    "print(f(1,2,3))\n"
   ]
  },
  {
   "cell_type": "code",
   "execution_count": 11,
   "id": "8a80aab6",
   "metadata": {},
   "outputs": [
    {
     "name": "stdout",
     "output_type": "stream",
     "text": [
      "16\n"
     ]
    }
   ],
   "source": [
    "#lmd fun that adds 15 to a given no passed in as an argument\n",
    "\n",
    "f=lambda a : a+15\n",
    "\n",
    "print(f(1))\n"
   ]
  },
  {
   "cell_type": "code",
   "execution_count": 31,
   "id": "6a4eae9f",
   "metadata": {},
   "outputs": [
    {
     "name": "stdout",
     "output_type": "stream",
     "text": [
      "enter n : 3\n",
      "ana\n",
      "am\n",
      "az\n",
      "['ana']\n"
     ]
    }
   ],
   "source": [
    "#filter function (function,sequence)\n",
    "\n",
    "l=[]\n",
    "n=int(input(\"enter n : \"))\n",
    "for i in range (0,n):\n",
    "    e=input()\n",
    "    l.append(e)\n",
    "\n",
    "ans=list(filter(lambda x:(x== \"\".join(reversed(x))),l))\n",
    "print(ans)"
   ]
  },
  {
   "cell_type": "code",
   "execution_count": 34,
   "id": "b8c58490",
   "metadata": {},
   "outputs": [
    {
     "name": "stdout",
     "output_type": "stream",
     "text": [
      "enter n : 4\n",
      "1\n",
      "2\n",
      "3\n",
      "4\n",
      "[1, 4, 9, 16]\n"
     ]
    }
   ],
   "source": [
    "# map (function,sequence)\n",
    "\n",
    "\n",
    "l=[]\n",
    "n=int(input(\"enter n : \"))\n",
    "for i in range (0,n):\n",
    "    e=int(input())\n",
    "    l.append(e)\n",
    "\n",
    "ans=list(map(lambda x:x*x,l))\n",
    "print(ans)"
   ]
  },
  {
   "cell_type": "code",
   "execution_count": 41,
   "id": "13999a7d",
   "metadata": {},
   "outputs": [
    {
     "name": "stdout",
     "output_type": "stream",
     "text": [
      "enter n : 3\n",
      "1\n",
      "2\n",
      "3\n",
      "6\n"
     ]
    }
   ],
   "source": [
    "# reduce (function,sequence)\n",
    "\n",
    "from functools import *\n",
    "l=[]\n",
    "n=int(input(\"enter n : \"))\n",
    "for i in range (0,n):\n",
    "    e=int(input())\n",
    "    l.append(e)\n",
    "\n",
    "ans=reduce(lambda x,y:x*y,l)\n",
    "         \n",
    "print(ans)"
   ]
  },
  {
   "cell_type": "code",
   "execution_count": 9,
   "id": "d60d28c0",
   "metadata": {},
   "outputs": [
    {
     "name": "stdout",
     "output_type": "stream",
     "text": [
      "25\n"
     ]
    }
   ],
   "source": [
    "#decor(function) takes functions returns functions\n",
    "\n",
    "def decor(myfun):\n",
    "    def inner():\n",
    "        return myfun(3)+myfun(4)\n",
    "    return inner\n",
    "@decor\n",
    "def myfun(x):\n",
    "    return x*x\n",
    "\n",
    "\n",
    "print(myfun())"
   ]
  },
  {
   "cell_type": "code",
   "execution_count": null,
   "id": "409e0e1b",
   "metadata": {},
   "outputs": [],
   "source": []
  }
 ],
 "metadata": {
  "kernelspec": {
   "display_name": "Python 3",
   "language": "python",
   "name": "python3"
  },
  "language_info": {
   "codemirror_mode": {
    "name": "ipython",
    "version": 3
   },
   "file_extension": ".py",
   "mimetype": "text/x-python",
   "name": "python",
   "nbconvert_exporter": "python",
   "pygments_lexer": "ipython3",
   "version": "3.8.8"
  }
 },
 "nbformat": 4,
 "nbformat_minor": 5
}
