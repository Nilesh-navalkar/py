{
 "cells": [
  {
   "cell_type": "code",
   "execution_count": 6,
   "metadata": {},
   "outputs": [
    {
     "name": "stdout",
     "output_type": "stream",
     "text": [
      "12345\n",
      "54321\n"
     ]
    }
   ],
   "source": [
    "num=int(input(\"enter a number\"))\n",
    "temp=num\n",
    "rev=0\n",
    "while(temp>0):\n",
    "    d=temp%10\n",
    "    rev=10*rev+d\n",
    "    temp=temp//10\n",
    "\n",
    "print(num)\n",
    "print(rev)"
   ]
  },
  {
   "cell_type": "code",
   "execution_count": 12,
   "metadata": {},
   "outputs": [
    {
     "name": "stdout",
     "output_type": "stream",
     "text": [
      "[1, 3, 6, 10, 15]\n"
     ]
    }
   ],
   "source": [
    "sonn=[]\n",
    "sonn.append(0)\n",
    "n=int(input(\"enter n : \"))\n",
    "for i in range (1,n+1):\n",
    "    sonn.append(sonn[i-1]+i)\n",
    "sonn.remove(0)\n",
    "print(sonn)"
   ]
  },
  {
   "cell_type": "code",
   "execution_count": 14,
   "metadata": {},
   "outputs": [
    {
     "name": "stdout",
     "output_type": "stream",
     "text": [
      "3 4 5\n",
      "8 6 10\n",
      "5 12 13\n",
      "15 8 17\n",
      "12 16 20\n"
     ]
    }
   ],
   "source": [
    "limit=int(input(\"Enter upper limit:\"))\n",
    "c=0\n",
    "m=2\n",
    "while(c<limit):\n",
    "    for n in range(1,m+1):\n",
    "        a=m*m-n*n\n",
    "        b=2*m*n\n",
    "        c=m*m+n*n\n",
    "        if(c>limit):\n",
    "            break\n",
    "        if(a==0 or b==0 or c==0):\n",
    "            break\n",
    "        print(a,b,c)\n",
    "    m=m+1"
   ]
  },
  {
   "cell_type": "code",
   "execution_count": 21,
   "metadata": {},
   "outputs": [
    {
     "name": "stdout",
     "output_type": "stream",
     "text": [
      "number :  11111011111\n",
      "YES\n"
     ]
    }
   ],
   "source": [
    "number=int(input(\"enter the number\"))\n",
    "num=str(number)\n",
    "n1=num.count(\"1\")\n",
    "n0=num.count(\"0\")\n",
    "print(\"number : \",num)\n",
    "if(n1==1 or n0==1):\n",
    "    print(\"YES\")\n",
    "else:\n",
    "    print(\"NO\")"
   ]
  },
  {
   "cell_type": "code",
   "execution_count": 33,
   "metadata": {},
   "outputs": [
    {
     "name": "stdout",
     "output_type": "stream",
     "text": [
      "[1, 5, 2, 4, 3]\n",
      "count= 2\n"
     ]
    }
   ],
   "source": [
    "l=[]\n",
    "n=int(input(\"enter n\"))\n",
    "for i in range(0,n):\n",
    "    e=int(input())\n",
    "    l.append(e)\n",
    "print(l)\n",
    "j=n\n",
    "count=0\n",
    "while(j>=1):\n",
    "    m=max(l[0:j])\n",
    "    indx=l.index(m)\n",
    "    if(indx!=j-1):\n",
    "        temp=l[indx]\n",
    "        l[indx]=l[j-1]\n",
    "        l[j-1]=temp\n",
    "        count=count+1\n",
    "    \n",
    "    j=j-1\n",
    "\n",
    "print(\"count=\",count)  "
   ]
  }
 ],
 "metadata": {
  "interpreter": {
   "hash": "4267f7e5d3adce8267fadf13e8d6a83ecb20dae9e50378c07b1d9410e1128995"
  },
  "kernelspec": {
   "display_name": "Python 3.10.4 64-bit",
   "language": "python",
   "name": "python3"
  },
  "language_info": {
   "codemirror_mode": {
    "name": "ipython",
    "version": 3
   },
   "file_extension": ".py",
   "mimetype": "text/x-python",
   "name": "python",
   "nbconvert_exporter": "python",
   "pygments_lexer": "ipython3",
   "version": "3.10.4"
  },
  "orig_nbformat": 4
 },
 "nbformat": 4,
 "nbformat_minor": 2
}
