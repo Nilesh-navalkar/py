{
 "cells": [
  {
   "cell_type": "code",
   "execution_count": 71,
   "id": "bcb65ff8",
   "metadata": {},
   "outputs": [
    {
     "name": "stdout",
     "output_type": "stream",
     "text": [
      "hello\n"
     ]
    }
   ],
   "source": [
    "print(\"hello\")\n",
    "#comments haha"
   ]
  },
  {
   "cell_type": "code",
   "execution_count": 1,
   "id": "48616f5d",
   "metadata": {},
   "outputs": [
    {
     "name": "stdout",
     "output_type": "stream",
     "text": [
      "enter a string : mam\n",
      "is a palindrome\n"
     ]
    }
   ],
   "source": [
    "a=input(\"enter a string : \")\n",
    "j=-1\n",
    "check=0\n",
    "for i in a:\n",
    "    if i != a[j]:\n",
    "        check=1\n",
    "        break\n",
    "    j=j-1\n",
    "    \n",
    "if check == 1:\n",
    "    print(\"not a palindrome\")\n",
    "else:\n",
    "    print(\"is a palindrome\")\n",
    "    \n"
   ]
  },
  {
   "cell_type": "code",
   "execution_count": 8,
   "id": "96829e9d",
   "metadata": {},
   "outputs": [
    {
     "name": "stdout",
     "output_type": "stream",
     "text": [
      "[1, 2, 3, 'hi']\n",
      "[1, 2, 3, 'hi', ['a', 'b', 'c']]\n",
      "c\n"
     ]
    }
   ],
   "source": [
    "list1=[1,2,3]\n",
    "list1.append(\"hi\")\n",
    "print(list1)\n",
    "list2=[\"a\",\"b\",\"c\"]\n",
    "list1.append(list2)\n",
    "print(list1)\n",
    "print(list1[4][2])"
   ]
  },
  {
   "cell_type": "code",
   "execution_count": 9,
   "id": "bcc4574c",
   "metadata": {},
   "outputs": [
    {
     "name": "stdout",
     "output_type": "stream",
     "text": [
      "enter n : 5\n",
      "70\n",
      "20\n",
      "70\n",
      "10\n",
      "70\n",
      "3\n"
     ]
    }
   ],
   "source": [
    "l=[]\n",
    "n=int(input(\"enter n : \"))\n",
    "for i in range (0,n):\n",
    "    e=int(input())\n",
    "    l.append(e)\n",
    "\n",
    "count=0\n",
    "for i in l:\n",
    "    if i==70:\n",
    "        count=count+1\n",
    "        \n",
    "print(count)\n",
    "    \n"
   ]
  },
  {
   "cell_type": "code",
   "execution_count": 10,
   "id": "d171e25c",
   "metadata": {},
   "outputs": [
    {
     "name": "stdout",
     "output_type": "stream",
     "text": [
      "enter n : 5\n",
      "70\n",
      "70\n",
      "10\n",
      "70\n",
      "10\n",
      "3\n"
     ]
    }
   ],
   "source": [
    "l=[]\n",
    "n=int(input(\"enter n : \"))\n",
    "for i in range (0,n):\n",
    "    e=int(input())\n",
    "    l.append(e)\n",
    "\n",
    "\n",
    "        \n",
    "print(l.count(70))\n",
    "    \n"
   ]
  },
  {
   "cell_type": "code",
   "execution_count": 38,
   "id": "98aba0dc",
   "metadata": {},
   "outputs": [
    {
     "name": "stdout",
     "output_type": "stream",
     "text": [
      "(1, 2, 1.1, 9, 8, 7, 6, 5, 10, 11, 13, 14)\n",
      "1\n",
      "(1, 1.1, 8)\n",
      "(14, 13, 11, 10, 5, 6, 7, 8, 9, 1.1, 2, 1)\n",
      "(4, 6, 8)\n",
      "[1, 1.1, 2, 5, 6, 7, 8, 9, 10, 11, 13, 14]\n"
     ]
    }
   ],
   "source": [
    "t=(1,2,1.1,9,8,7,6,5,10,11,13,14)\n",
    "print(t)\n",
    "\n",
    "print(t[0])\n",
    "print(t[0:6:2])\n",
    "print(t[::-1])\n",
    "t1=tuple(range(4,9,2))\n",
    "print(t1)\n",
    "\n",
    "x = sorted(t)\n",
    "print(x)"
   ]
  },
  {
   "cell_type": "code",
   "execution_count": 63,
   "id": "a4cdbf58",
   "metadata": {},
   "outputs": [
    {
     "name": "stdout",
     "output_type": "stream",
     "text": [
      "dict_keys(['76', '77', '78'])\n",
      "dict_values(['N', 'D', 'A'])\n",
      "{'76': ['N', 'mum', 'a3'], '77': ['d', 'pune', 'a4'], '78': ['k', 'kol', 'a1']}\n",
      "dict_keys(['76', '77', '78'])\n",
      "dict_values([['N', 'mum', 'a3'], ['d', 'pune', 'a4'], ['k', 'kol', 'a1']])\n",
      "['N', 'mum', 'a3']\n",
      "['N', 'mum', 'a3']\n",
      "\n",
      "76 ['N', 'mum', 'a3']\n",
      "77 ['d', 'pune', 'a4']\n",
      "78 ['k', 'kol', 'a1']\n",
      "\n",
      "first element is \n",
      "76 ['N', 'mum', 'a3']\n"
     ]
    }
   ],
   "source": [
    "d={'76':'N','77':'D','78':'A'}\n",
    "print(d.keys())\n",
    "print(d.values())\n",
    "\n",
    "\n",
    "d1={'76':['N','mum','a3'],'77':['d','pune','a4'],'78':['k','kol','a1']}\n",
    "print(d1)\n",
    "print(d1.keys())\n",
    "print(d1.values())\n",
    "\n",
    "print(d1.get('76'))\n",
    "print(d1['76'])\n",
    "\n",
    "print(\"\")\n",
    "\n",
    "for k,v in d1.items():\n",
    "    print(k, v)\n",
    "   \n",
    "\n",
    "print(\"\")\n",
    "print(\"first element is \")\n",
    "i=0\n",
    "for k,v in d1.items():\n",
    "    if(i==0):\n",
    "        print(k, v)\n",
    "        i=i+1\n",
    "    else:\n",
    "        break\n",
    "    "
   ]
  },
  {
   "cell_type": "code",
   "execution_count": 69,
   "id": "2908eb78",
   "metadata": {},
   "outputs": [
    {
     "name": "stdout",
     "output_type": "stream",
     "text": [
      "{'america': 'dollar', 'india': 'rupees', 'iran': 'diram', 'europe': 'euro'}\n"
     ]
    }
   ],
   "source": [
    "l1=[\"america\",\"india\",\"iran\",\"europe\",\"pakistan\"]\n",
    "l2=[\"dollar\",\"rupees\",\"diram\",\"euro\"]\n",
    "\n",
    "t=zip(l1,l2)\n",
    "d=dict(t)\n",
    "print(d)\n",
    "\n"
   ]
  },
  {
   "cell_type": "code",
   "execution_count": 70,
   "id": "3c877cbb",
   "metadata": {},
   "outputs": [
    {
     "name": "stdout",
     "output_type": "stream",
     "text": [
      "[1 2 3 4]\n"
     ]
    }
   ],
   "source": [
    "import numpy as np\n",
    "\n",
    "a=np.array([1,2,3,4])\n",
    "print(a)\n",
    "\n"
   ]
  },
  {
   "cell_type": "code",
   "execution_count": null,
   "id": "32c8a000",
   "metadata": {},
   "outputs": [],
   "source": []
  }
 ],
 "metadata": {
  "kernelspec": {
   "display_name": "Python 3",
   "language": "python",
   "name": "python3"
  },
  "language_info": {
   "codemirror_mode": {
    "name": "ipython",
    "version": 3
   },
   "file_extension": ".py",
   "mimetype": "text/x-python",
   "name": "python",
   "nbconvert_exporter": "python",
   "pygments_lexer": "ipython3",
   "version": "3.8.8"
  }
 },
 "nbformat": 4,
 "nbformat_minor": 5
}
