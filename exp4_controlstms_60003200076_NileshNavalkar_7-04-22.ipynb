{
 "cells": [
  {
   "cell_type": "code",
   "execution_count": 1,
   "id": "270217e2",
   "metadata": {},
   "outputs": [],
   "source": [
    "if ():\n",
    "    pass\n",
    "elif ():\n",
    "    pass\n",
    "else:\n",
    "    pass"
   ]
  },
  {
   "cell_type": "code",
   "execution_count": 2,
   "id": "50c08f1d",
   "metadata": {},
   "outputs": [
    {
     "name": "stdout",
     "output_type": "stream",
     "text": [
      "enter a charC\n",
      "u entered c\n"
     ]
    }
   ],
   "source": [
    "a=input(\"enter a char\")\n",
    "\n",
    "if(a=='A' or a=='a'):\n",
    "    print(\"u entered a\")\n",
    "elif(a=='B' or a=='b'):\n",
    "    print(\"u entered b\")\n",
    "elif(a=='C' or a=='c'):\n",
    "    print(\"u entered c\")"
   ]
  },
  {
   "cell_type": "code",
   "execution_count": 5,
   "id": "ffd7e677",
   "metadata": {},
   "outputs": [
    {
     "name": "stdout",
     "output_type": "stream",
     "text": [
      "enter a str : klmn\n",
      "absent\n"
     ]
    }
   ],
   "source": [
    "a=input(\"enter a str : \")\n",
    "c=0\n",
    "c=a.count('a')+a.count('A')+a.count('b')+a.count('B')+a.count('c')+a.count('C')\n",
    "if(c!=0):\n",
    "    print(\"present\")\n",
    "else:\n",
    "    print(\"absent\")"
   ]
  },
  {
   "cell_type": "code",
   "execution_count": 8,
   "id": "afa2ba26",
   "metadata": {},
   "outputs": [
    {
     "name": "stdout",
     "output_type": "stream",
     "text": [
      "5 *  1  =  5\n",
      "5 *  2  =  10\n",
      "5 *  3  =  15\n",
      "5 *  4  =  20\n",
      "5 *  5  =  25\n",
      "5 *  6  =  30\n",
      "5 *  7  =  35\n",
      "5 *  8  =  40\n",
      "5 *  9  =  45\n",
      "5 *  10  =  50\n"
     ]
    }
   ],
   "source": [
    "i=1\n",
    "while(i<11):\n",
    "    print(\"5 * \",i,\" = \",5*i)\n",
    "    i=i+1"
   ]
  },
  {
   "cell_type": "code",
   "execution_count": 30,
   "id": "48a1524a",
   "metadata": {},
   "outputs": [
    {
     "name": "stdout",
     "output_type": "stream",
     "text": [
      "enter a str : nilesh\n",
      "nlsh\n"
     ]
    }
   ],
   "source": [
    "a=input(\"enter a str : \")\n",
    "nov=\"\"\n",
    "for i in range (0,len(a)):\n",
    "    if( a[i] != 'a'and a[i] != 'e'and a[i]!= 'i'and a[i] != 'o'and a[i] != 'u'):\n",
    "        nov=nov+a[i]\n",
    "        \n",
    "        \n",
    "print(nov)"
   ]
  },
  {
   "cell_type": "code",
   "execution_count": 1,
   "id": "997bab8e",
   "metadata": {},
   "outputs": [
    {
     "name": "stdout",
     "output_type": "stream",
     "text": [
      "  * \n",
      " * * \n",
      "* * * \n",
      " * * \n",
      "  * \n"
     ]
    }
   ],
   "source": [
    "rows = 2 \n",
    " \n",
    "k = 2   \n",
    "for i in range(0, rows):  \n",
    "    for j in range(0, k):  \n",
    "        print(end=\" \")  \n",
    "    k = k - 1  \n",
    "    for j in range(0, i + 1):  \n",
    "        print(\"* \", end=\"\")  \n",
    "    print(\"\")  \n",
    "   \n",
    "k = rows - 2  \n",
    "for i in range(rows, -1, -1):  \n",
    "    for j in range(k, 0, -1):  \n",
    "        print(end=\" \")  \n",
    "    k = k + 1  \n",
    "    for j in range(0, i + 1):  \n",
    "        print(\"* \", end=\"\")  \n",
    "    print(\"\") "
   ]
  },
  {
   "cell_type": "code",
   "execution_count": 37,
   "id": "5bacef0f",
   "metadata": {},
   "outputs": [
    {
     "name": "stdout",
     "output_type": "stream",
     "text": [
      "enter a str : ababab\n",
      "found at  0 , 1\n"
     ]
    }
   ],
   "source": [
    "a=input(\"enter a str : \")\n",
    "for i in range(1,len(a)):\n",
    "    if(a[i-1]==\"a\" and a[i]==\"b\"):\n",
    "        print(\"found at \",i-1,\",\",i)\n",
    "        break"
   ]
  },
  {
   "cell_type": "code",
   "execution_count": 36,
   "id": "dcc2a2f0",
   "metadata": {},
   "outputs": [
    {
     "name": "stdout",
     "output_type": "stream",
     "text": [
      "enter a str : abnmnmabnmab\n",
      "3\n"
     ]
    }
   ],
   "source": [
    "a=input(\"enter a str : \")\n",
    "count=0\n",
    "for i in range(1,len(a)):\n",
    "    if(a[i-1]==\"a\" and a[i]==\"b\"):\n",
    "        count=count+1\n",
    "        \n",
    "print(count)"
   ]
  },
  {
   "cell_type": "code",
   "execution_count": 43,
   "id": "685da395",
   "metadata": {},
   "outputs": [
    {
     "name": "stdout",
     "output_type": "stream",
     "text": [
      "hell u world all\n"
     ]
    }
   ],
   "source": [
    "def hw(j):\n",
    "    print(\"hell u world\",j)\n",
    "\n",
    "str=\"all\"\n",
    "hw(str)"
   ]
  },
  {
   "cell_type": "code",
   "execution_count": 42,
   "id": "c5688d55",
   "metadata": {},
   "outputs": [
    {
     "name": "stdout",
     "output_type": "stream",
     "text": [
      "683205851696\n",
      "683205851696\n"
     ]
    }
   ],
   "source": [
    "def hw(j):\n",
    "    print(id(j))\n",
    "\n",
    "str=\"all\"\n",
    "hw(str)\n",
    "print(id(str))    #prove call by reference only"
   ]
  },
  {
   "cell_type": "code",
   "execution_count": 51,
   "id": "fbec85d2",
   "metadata": {},
   "outputs": [
    {
     "name": "stdout",
     "output_type": "stream",
     "text": [
      "hell u world ('all',)\n",
      "hell u world ()\n"
     ]
    }
   ],
   "source": [
    "def hw(*a):\n",
    "    print(\"hell u world\",a)\n",
    "\n",
    "str=\"all\"\n",
    "hw(str) \n",
    "hw()"
   ]
  },
  {
   "cell_type": "code",
   "execution_count": null,
   "id": "fb43dfdc",
   "metadata": {},
   "outputs": [],
   "source": []
  }
 ],
 "metadata": {
  "kernelspec": {
   "display_name": "Python 3",
   "language": "python",
   "name": "python3"
  },
  "language_info": {
   "codemirror_mode": {
    "name": "ipython",
    "version": 3
   },
   "file_extension": ".py",
   "mimetype": "text/x-python",
   "name": "python",
   "nbconvert_exporter": "python",
   "pygments_lexer": "ipython3",
   "version": "3.10.2"
  }
 },
 "nbformat": 4,
 "nbformat_minor": 5
}
