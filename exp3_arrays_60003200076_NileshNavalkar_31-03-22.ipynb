{
 "cells": [
  {
   "cell_type": "code",
   "execution_count": 1,
   "id": "781d8b6e",
   "metadata": {},
   "outputs": [
    {
     "name": "stdout",
     "output_type": "stream",
     "text": [
      "h\n"
     ]
    }
   ],
   "source": [
    "print(\"h\")"
   ]
  },
  {
   "cell_type": "markdown",
   "id": "fa4157f9",
   "metadata": {},
   "source": [
    "import array as ar\n",
    "\n",
    "a=ar.array('i',[1,2,3,4])  int\n",
    "b=ar.array('d',[1,2,3,4])  float\n",
    "\n",
    "print(b)"
   ]
  },
  {
   "cell_type": "code",
   "execution_count": null,
   "id": "acd398c1",
   "metadata": {},
   "outputs": [],
   "source": []
  },
  {
   "cell_type": "code",
   "execution_count": 48,
   "id": "7a41ff00",
   "metadata": {},
   "outputs": [
    {
     "name": "stdout",
     "output_type": "stream",
     "text": [
      "array('i', [1, 2, 3, 4])\n",
      "\n",
      "1\n",
      "2\n",
      "3\n",
      "4\n",
      "\n",
      "1\n",
      "2\n",
      "3\n",
      "4\n",
      "\n",
      "4\n",
      "3\n",
      "2\n",
      "1\n",
      "array('i', [1, 7, 2, 3, 8, 4, 9])\n"
     ]
    }
   ],
   "source": [
    "import array as ar\n",
    "#arrayname=module.method('datatype',[elements])\n",
    "a=ar.array('i',[1,2,3,4])  #int   \n",
    "b=ar.array('d',[1,2,3,4])  #double\n",
    "c=ar.array('f',[1,2])      #float\n",
    "d=ar.array('u',['a','b'])  #unicode\n",
    "\n",
    "\n",
    "print(a)\n",
    "print()\n",
    "for i in a:      \n",
    "    print(i)\n",
    "print()\n",
    "for i in range (0,len(a)):\n",
    "    print(a[i])\n",
    "print()\n",
    "for i in range (len(a)-1,-1,-1):  #reverse(start,end,step)  \n",
    "    print(a[i])\n",
    "    \n",
    "a.insert(1,7)   #(index,element)\n",
    "a.insert(-1,8)\n",
    "a.insert(6,9)\n",
    "print(a)\n",
    "\n",
    "\n"
   ]
  },
  {
   "cell_type": "code",
   "execution_count": null,
   "id": "eba51527",
   "metadata": {},
   "outputs": [],
   "source": [
    "import array as ar\n",
    "\n",
    "b=ar.array('d',[])\n",
    "l=int(input(\"enter size\"))\n",
    "sum=0\n",
    "for i in range (0,l):          \n",
    "    b.insert(i,float(input(\"enter element : \")))     #user input\n",
    "    sum=sum+b[i]\n",
    "\n",
    "print(\"sum = \",sum)\n",
    "\n",
    "b.remove(20)                                        #removes \"i\" ele\n",
    "print(b)\n",
    "b.pop()                                             #removes last ele\n",
    "print(b)\n",
    "\n",
    "\n"
   ]
  },
  {
   "cell_type": "markdown",
   "id": "a4bcb856",
   "metadata": {},
   "source": [
    "slice array 3:8 \n"
   ]
  },
  {
   "cell_type": "code",
   "execution_count": 3,
   "id": "e9b82974",
   "metadata": {},
   "outputs": [
    {
     "name": "stdout",
     "output_type": "stream",
     "text": [
      "enter size10\n",
      "enter element : 1\n",
      "enter element : 2\n",
      "enter element : 3\n",
      "enter element : 4\n",
      "enter element : 5\n",
      "enter element : 20\n",
      "enter element : 6\n",
      "enter element : 7\n",
      "enter element : 8\n",
      "enter element : 9\n",
      "array('d', [4.0, 5.0, 20.0, 6.0, 7.0])\n",
      "array('d', [1.0, 2.0, 3.0, 4.0, 5.0, 20.0, 6.0, 7.0, 8.0, 9.0])\n",
      "array('d', [9.0, 8.0, 7.0, 6.0, 20.0, 5.0, 4.0, 3.0, 2.0, 1.0])\n",
      "5\n"
     ]
    }
   ],
   "source": [
    "import array as ar\n",
    "\n",
    "b=ar.array('d',[])\n",
    "l=int(input(\"enter size\"))\n",
    "\n",
    "for i in range (0,l):          \n",
    "    b.insert(i,float(input(\"enter element : \")))\n",
    "\n",
    "\n",
    "print(b[3:8])                                      #slicing\n",
    "print(b[:])                                        #prints entire array\n",
    "print(b[::-1])                                     #reverse\n",
    "\n",
    "print(b.index(20))                                #first occur of ele i\n",
    "\n",
    "\n"
   ]
  },
  {
   "cell_type": "code",
   "execution_count": null,
   "id": "8541666a",
   "metadata": {},
   "outputs": [],
   "source": [
    "#first occr of a vowel e in user iput str\n",
    "s=input(\"enter a string : \")\n",
    "print(s.find(\"e\"))\n",
    "#first occr of a vowel in user iput str\n",
    "s=input(\"enter a string : \")\n",
    "v=[\"a\",\"e\",\"i\",\"o\",\"u\"]\n",
    "loc=9999999\n",
    "for i in range (0,5):\n",
    "    if(s.find(v[i])==-1):\n",
    "        i=i+1\n",
    "    elif(loc>s.find(v[i])):\n",
    "        loc=s.find(v[i])\n",
    "        \n",
    "print(loc)\n"
   ]
  },
  {
   "cell_type": "code",
   "execution_count": 11,
   "id": "d85c8a65",
   "metadata": {},
   "outputs": [
    {
     "name": "stdout",
     "output_type": "stream",
     "text": [
      "['1' '2' '3' '4' 'a' '3.2']\n",
      "[[1, 2, 3], [4, 5, 6]]\n"
     ]
    }
   ],
   "source": [
    "import numpy as np\n",
    "\n",
    "a=np.array([1,2,3,4,\"a\",3.2])        \n",
    "print(a)\n",
    "\n",
    "a = [[1, 2, 3], [4, 5, 6]]\n",
    "na = np.array(a)\n",
    "print(a)"
   ]
  },
  {
   "cell_type": "code",
   "execution_count": 2,
   "id": "5e04f0c2",
   "metadata": {},
   "outputs": [
    {
     "name": "stdout",
     "output_type": "stream",
     "text": [
      "2\n",
      "6\n",
      "(2, 3)\n",
      "[1.]\n",
      "6 1 21\n",
      "4\n",
      "[[1 2 3]\n",
      " [4 5 6]]\n"
     ]
    }
   ],
   "source": [
    "'''ndim\n",
    "itemsize\n",
    "\n",
    "a.size,shape\n",
    "\n",
    "reshape linspace min max sum'''\n",
    "import numpy as np\n",
    "\n",
    "a=np.array([(1,2,3) ,(4,5,6)])        \n",
    "print(a.ndim)   #no of array dimension\n",
    "\n",
    "print(a.size)   #total no of items\n",
    "\n",
    "print(a.shape)  #mXn\n",
    "\n",
    "print(np.linspace(1,2,1))\n",
    "print(np.max(a),np.min(a),np.sum(a))          #max,min,sum\n",
    "print(a.itemsize)         #size of datatype\n",
    "\n",
    "#np.reshape(a,-1);\n",
    "print(a)"
   ]
  },
  {
   "cell_type": "code",
   "execution_count": null,
   "id": "7bb81f11",
   "metadata": {},
   "outputs": [],
   "source": []
  },
  {
   "cell_type": "code",
   "execution_count": null,
   "id": "29cb0380",
   "metadata": {},
   "outputs": [],
   "source": []
  },
  {
   "cell_type": "code",
   "execution_count": null,
   "id": "72726480",
   "metadata": {},
   "outputs": [],
   "source": []
  }
 ],
 "metadata": {
  "kernelspec": {
   "display_name": "Python 3",
   "language": "python",
   "name": "python3"
  },
  "language_info": {
   "codemirror_mode": {
    "name": "ipython",
    "version": 3
   },
   "file_extension": ".py",
   "mimetype": "text/x-python",
   "name": "python",
   "nbconvert_exporter": "python",
   "pygments_lexer": "ipython3",
   "version": "3.10.2"
  }
 },
 "nbformat": 4,
 "nbformat_minor": 5
}
