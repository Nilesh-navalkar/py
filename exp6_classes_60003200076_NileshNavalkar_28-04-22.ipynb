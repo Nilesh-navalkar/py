{
 "cells": [
  {
   "cell_type": "code",
   "execution_count": 4,
   "id": "8d7e96a1",
   "metadata": {},
   "outputs": [
    {
     "name": "stdout",
     "output_type": "stream",
     "text": [
      "1\n",
      "2\n",
      "3\n",
      "4\n",
      "5\n",
      "6\n",
      "7\n",
      "8\n",
      "9\n",
      "10\n",
      "11\n",
      "12\n",
      "13\n",
      "14\n",
      "15\n",
      "16\n",
      "17\n",
      "18\n",
      "19\n",
      "20\n"
     ]
    }
   ],
   "source": [
    "#generators\n",
    "\n",
    "def g(a,b):\n",
    "    while a<=b:\n",
    "        yield a\n",
    "        a=a+1\n",
    "j=g(1,20)\n",
    "\n",
    "for i in j:\n",
    "    print(i)"
   ]
  },
  {
   "cell_type": "code",
   "execution_count": 6,
   "id": "b602dae2",
   "metadata": {},
   "outputs": [
    {
     "name": "stdout",
     "output_type": "stream",
     "text": [
      "name = nilesh\n"
     ]
    }
   ],
   "source": [
    "#classes&objs\n",
    "\n",
    "class myclass:\n",
    "     def __init__(self,name):    #instanceMethod   mutator\n",
    "            self.name = name\n",
    "    \n",
    "     def myfun(self):\n",
    "        print(\"name = \" + self.name)\n",
    "\n",
    "\n",
    "c=myclass(\"nilesh\")\n",
    "c.myfun()"
   ]
  },
  {
   "cell_type": "code",
   "execution_count": 15,
   "id": "1a3b953f",
   "metadata": {},
   "outputs": [
    {
     "name": "stdout",
     "output_type": "stream",
     "text": [
      "nilesh\n"
     ]
    }
   ],
   "source": [
    "#classMethod\n",
    "\n",
    "class myclass:\n",
    "    name='nilesh'\n",
    "    def __init__(self,a,b):    \n",
    "            self.a = a\n",
    "            self.b = b\n",
    "    @classmethod\n",
    "    def myfun(cls):\n",
    "        return cls.name\n",
    "\n",
    "\n",
    "print(myclass.myfun())"
   ]
  },
  {
   "cell_type": "code",
   "execution_count": 17,
   "id": "51b11d4d",
   "metadata": {},
   "outputs": [
    {
     "name": "stdout",
     "output_type": "stream",
     "text": [
      "[1, 2, 3]\n"
     ]
    }
   ],
   "source": [
    "class myclass:\n",
    "     def __init__(self,name):   \n",
    "            print(name)\n",
    "            \n",
    "class subc(myclass):\n",
    "    def __init__(self,name):   \n",
    "            super().__init__(x)\n",
    "    \n",
    "x=[1,2,3]\n",
    "n=subc(x)"
   ]
  },
  {
   "cell_type": "code",
   "execution_count": 21,
   "id": "67efea68",
   "metadata": {},
   "outputs": [
    {
     "name": "stdout",
     "output_type": "stream",
     "text": [
      "1=deposit  2=withdrw  3=display  4=exit\n",
      "enter choice3\n",
      "balance :  0\n",
      "1=deposit  2=withdrw  3=display  4=exit\n",
      "enter choice1\n",
      "enter deposit amount100\n",
      "1=deposit  2=withdrw  3=display  4=exit\n",
      "enter choice3\n",
      "balance :  100.0\n",
      "1=deposit  2=withdrw  3=display  4=exit\n",
      "enter choice2\n",
      "enter withdraval amount20\n",
      "1=deposit  2=withdrw  3=display  4=exit\n",
      "enter choice3\n",
      "balance :  80.0\n",
      "1=deposit  2=withdrw  3=display  4=exit\n",
      "enter choice2\n",
      "enter withdraval amount99\n",
      "not sufficient balance\n",
      "1=deposit  2=withdrw  3=display  4=exit\n",
      "enter choice3\n",
      "balance :  80.0\n",
      "1=deposit  2=withdrw  3=display  4=exit\n",
      "enter choice2\n",
      "enter withdraval amount80\n",
      "not sufficient balance\n",
      "1=deposit  2=withdrw  3=display  4=exit\n",
      "enter choice3\n",
      "balance :  80.0\n",
      "1=deposit  2=withdrw  3=display  4=exit\n",
      "enter choice4\n"
     ]
    }
   ],
   "source": [
    "class bankaccount:\n",
    "    def __init__(self):\n",
    "        self.balance=0\n",
    "        \n",
    "    def deposit(self):\n",
    "        d=float(input(\"enter deposit amount : \"))\n",
    "        self.balance=self.balance+d;\n",
    "        \n",
    "    \n",
    "    def withdraw(self):\n",
    "        w=float(input(\"enter withdraval amount : \"))\n",
    "        if w<=self.balance:\n",
    "            self.balance=self.balance-w;\n",
    "        else:\n",
    "            print(\"not sufficient balance\")\n",
    "        \n",
    "    def show(self):\n",
    "        print(\"balance : \",self.balance)\n",
    "        \n",
    "my = bankaccount()\n",
    "print(\"1=deposit  2=withdrw  3=display  4=exit : \")\n",
    "c=int(input(\"enter choice : \"))\n",
    "while(c!=4):\n",
    "    if(c==1):\n",
    "        my.deposit()\n",
    "        c=0\n",
    "    elif(c==2):\n",
    "        my.withdraw()\n",
    "        c=0\n",
    "    elif(c==3):\n",
    "        my.show()\n",
    "        c=0\n",
    "    elif(c==4):\n",
    "        break\n",
    "    elif(c==0):\n",
    "        print(\"1=deposit  2=withdrw  3=display  4=exit : \")\n",
    "        c=int(input(\"enter choice : \"))\n"
   ]
  },
  {
   "cell_type": "code",
   "execution_count": 28,
   "id": "df1beb4e",
   "metadata": {},
   "outputs": [
    {
     "name": "stdout",
     "output_type": "stream",
     "text": [
      "class c\n",
      "y class k\n",
      "y class b\n",
      "y class a\n",
      "my class b\n",
      "my class a\n",
      "n0 class a\n"
     ]
    }
   ],
   "source": [
    "class a:\n",
    "    def __init__(self,t):\n",
    "        print(t,\"class a\")\n",
    "        \n",
    "        \n",
    "class b(a):\n",
    "    def __init__(self,t):\n",
    "        print(t,\"class b\")\n",
    "        super().__init__(t)\n",
    "        \n",
    "class k(a):\n",
    "    def __init__(self,t):\n",
    "        print(t,\"class k\")\n",
    "        super().__init__(t)\n",
    "        \n",
    "class c(k,b):\n",
    "    def __init__(self):\n",
    "        print(\"class c\")\n",
    "        super().__init__(\"y\")\n",
    "        \n",
    "obj1=c()\n",
    "obj2=b(\"my\")\n",
    "obj3=a(\"n0\")"
   ]
  },
  {
   "cell_type": "code",
   "execution_count": null,
   "id": "697c926e",
   "metadata": {},
   "outputs": [],
   "source": []
  },
  {
   "cell_type": "code",
   "execution_count": null,
   "id": "411074e4",
   "metadata": {},
   "outputs": [],
   "source": []
  }
 ],
 "metadata": {
  "kernelspec": {
   "display_name": "Python 3",
   "language": "python",
   "name": "python3"
  },
  "language_info": {
   "codemirror_mode": {
    "name": "ipython",
    "version": 3
   },
   "file_extension": ".py",
   "mimetype": "text/x-python",
   "name": "python",
   "nbconvert_exporter": "python",
   "pygments_lexer": "ipython3",
   "version": "3.8.8"
  }
 },
 "nbformat": 4,
 "nbformat_minor": 5
}
