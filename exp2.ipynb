{
 "cells": [
  {
   "cell_type": "code",
   "execution_count": 2,
   "metadata": {},
   "outputs": [
    {
     "name": "stdout",
     "output_type": "stream",
     "text": [
      "your team : ['mike', 'kyle', 'lyle', 'nike', 'josh', 'joey', 'peter', 'anon', 'killerQueen', 'jotaro']\n",
      "your sorted team :  ['anon', 'joey', 'josh', 'jotaro', 'killerQueen', 'kyle', 'lyle', 'mike', 'nike', 'peter']\n",
      "after removing : ['anon', 'joey', 'josh', 'jotaro', 'kyle', 'lyle', 'mike', 'nike', 'peter']\n"
     ]
    }
   ],
   "source": [
    "fblist=[]\n",
    "for i in range(0,10):\n",
    "    player=input(\"add a player to ur team\")\n",
    "    fblist.append(player)\n",
    "\n",
    "print(\"your team :\",fblist)\n",
    "fblist.sort()\n",
    "print(\"your sorted team : \",fblist)\n",
    "\n",
    "bad=input(\"enter the player u want to remove from team : \")\n",
    "fblist.remove(bad)\n",
    "print(\"after removing :\",fblist)"
   ]
  },
  {
   "cell_type": "code",
   "execution_count": null,
   "metadata": {},
   "outputs": [],
   "source": []
  }
 ],
 "metadata": {
  "interpreter": {
   "hash": "4267f7e5d3adce8267fadf13e8d6a83ecb20dae9e50378c07b1d9410e1128995"
  },
  "kernelspec": {
   "display_name": "Python 3.10.4 64-bit",
   "language": "python",
   "name": "python3"
  },
  "language_info": {
   "codemirror_mode": {
    "name": "ipython",
    "version": 3
   },
   "file_extension": ".py",
   "mimetype": "text/x-python",
   "name": "python",
   "nbconvert_exporter": "python",
   "pygments_lexer": "ipython3",
   "version": "3.10.4"
  },
  "orig_nbformat": 4
 },
 "nbformat": 4,
 "nbformat_minor": 2
}
