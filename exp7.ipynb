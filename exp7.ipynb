{
 "cells": [
  {
   "cell_type": "code",
   "execution_count": 1,
   "metadata": {},
   "outputs": [
    {
     "name": "stdout",
     "output_type": "stream",
     "text": [
      "max marks 100\n",
      "you entered :  120\n"
     ]
    }
   ],
   "source": [
    "class InvalidMarks(Exception):\n",
    "  def __init__(self, message):\n",
    "    self.message = message\n",
    "\n",
    "try:\n",
    "    marks=int(input(\"enter your marks \"))\n",
    "    if(marks>100):\n",
    "        raise InvalidMarks(\"max marks 100\")\n",
    "except Exception as e:\n",
    "    print(e)\n",
    "finally:\n",
    "  print(\"you entered : \",marks)"
   ]
  },
  {
   "cell_type": "code",
   "execution_count": 16,
   "metadata": {},
   "outputs": [
    {
     "name": "stdout",
     "output_type": "stream",
     "text": [
      "A = 1   B = 2   C = 3   D = 0\n",
      "my my learn division  no 0 in denominator\n"
     ]
    }
   ],
   "source": [
    "class handelExcp(Exception):\n",
    "  def __init__(self, message):\n",
    "    self.message = message\n",
    "\n",
    "a=int(input())\n",
    "b=int(input())\n",
    "c=int(input())\n",
    "d=int(input())\n",
    "print(\"A =\",a,\"  B =\",b,\"  C =\",c,\"  D =\",d)\n",
    "try:\n",
    "  if(b==0 or d==0):\n",
    "    raise handelExcp(\"no 0 in denominator\")\n",
    "  else:\n",
    "    print(((a+d)+(b*c))/(b*d))\n",
    "except handelExcp as e:\n",
    "    print(\"my my learn division \",e.message)"
   ]
  },
  {
   "cell_type": "code",
   "execution_count": 19,
   "metadata": {},
   "outputs": [
    {
     "name": "stdout",
     "output_type": "stream",
     "text": [
      "A = 1   B = 0   C = 2   D = 4\n"
     ]
    },
    {
     "ename": "AssertionError",
     "evalue": "denominator can't be 0",
     "output_type": "error",
     "traceback": [
      "\u001b[1;31m---------------------------------------------------------------------------\u001b[0m",
      "\u001b[1;31mAssertionError\u001b[0m                            Traceback (most recent call last)",
      "\u001b[1;32mc:\\Users\\SHREE RAM\\Desktop\\py\\exp7.ipynb Cell 3'\u001b[0m in \u001b[0;36m<cell line: 6>\u001b[1;34m()\u001b[0m\n\u001b[0;32m      <a href='vscode-notebook-cell:/c%3A/Users/SHREE%20RAM/Desktop/py/exp7.ipynb#ch0000002?line=3'>4</a>\u001b[0m d\u001b[39m=\u001b[39m\u001b[39mint\u001b[39m(\u001b[39minput\u001b[39m())\n\u001b[0;32m      <a href='vscode-notebook-cell:/c%3A/Users/SHREE%20RAM/Desktop/py/exp7.ipynb#ch0000002?line=4'>5</a>\u001b[0m \u001b[39mprint\u001b[39m(\u001b[39m\"\u001b[39m\u001b[39mA =\u001b[39m\u001b[39m\"\u001b[39m,a,\u001b[39m\"\u001b[39m\u001b[39m  B =\u001b[39m\u001b[39m\"\u001b[39m,b,\u001b[39m\"\u001b[39m\u001b[39m  C =\u001b[39m\u001b[39m\"\u001b[39m,c,\u001b[39m\"\u001b[39m\u001b[39m  D =\u001b[39m\u001b[39m\"\u001b[39m,d)\n\u001b[1;32m----> <a href='vscode-notebook-cell:/c%3A/Users/SHREE%20RAM/Desktop/py/exp7.ipynb#ch0000002?line=5'>6</a>\u001b[0m \u001b[39massert\u001b[39;00m b\u001b[39m!=\u001b[39m\u001b[39m0\u001b[39m \u001b[39mand\u001b[39;00m d\u001b[39m!=\u001b[39m\u001b[39m0\u001b[39m, \u001b[39m\"\u001b[39m\u001b[39mdenominator can\u001b[39m\u001b[39m'\u001b[39m\u001b[39mt be 0\u001b[39m\u001b[39m\"\u001b[39m \n\u001b[0;32m      <a href='vscode-notebook-cell:/c%3A/Users/SHREE%20RAM/Desktop/py/exp7.ipynb#ch0000002?line=6'>7</a>\u001b[0m \u001b[39mprint\u001b[39m(((a\u001b[39m+\u001b[39md)\u001b[39m+\u001b[39m(b\u001b[39m*\u001b[39mc))\u001b[39m/\u001b[39m(b\u001b[39m*\u001b[39md))\n",
      "\u001b[1;31mAssertionError\u001b[0m: denominator can't be 0"
     ]
    }
   ],
   "source": [
    "a=int(input())\n",
    "b=int(input())\n",
    "c=int(input())\n",
    "d=int(input())\n",
    "print(\"A =\",a,\"  B =\",b,\"  C =\",c,\"  D =\",d)\n",
    "assert b!=0 and d!=0, \"denominator can't be 0\" \n",
    "print(((a+d)+(b*c))/(b*d))"
   ]
  }
 ],
 "metadata": {
  "interpreter": {
   "hash": "4267f7e5d3adce8267fadf13e8d6a83ecb20dae9e50378c07b1d9410e1128995"
  },
  "kernelspec": {
   "display_name": "Python 3.10.4 64-bit",
   "language": "python",
   "name": "python3"
  },
  "language_info": {
   "codemirror_mode": {
    "name": "ipython",
    "version": 3
   },
   "file_extension": ".py",
   "mimetype": "text/x-python",
   "name": "python",
   "nbconvert_exporter": "python",
   "pygments_lexer": "ipython3",
   "version": "3.10.4"
  },
  "orig_nbformat": 4
 },
 "nbformat": 4,
 "nbformat_minor": 2
}
