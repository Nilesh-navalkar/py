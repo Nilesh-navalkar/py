{
 "cells": [
  {
   "cell_type": "code",
   "execution_count": 4,
   "metadata": {},
   "outputs": [
    {
     "name": "stdout",
     "output_type": "stream",
     "text": [
      "hell-u-world\n"
     ]
    }
   ],
   "source": [
    "sentence = input(\"enter your sentence\")\n",
    "\n",
    "hsent=sentence.replace(\" \",\"-\")\n",
    "print(hsent)"
   ]
  },
  {
   "cell_type": "code",
   "execution_count": 6,
   "metadata": {},
   "outputs": [
    {
     "name": "stdout",
     "output_type": "stream",
     "text": [
      "[102, 136, 159, 145, 150, 167, 107, 152, 148, 195]\n",
      "the smallest random integer is :  102\n"
     ]
    }
   ],
   "source": [
    "import random as r\n",
    "\n",
    "myint=[]\n",
    "i=0\n",
    "for i in range(0,10):\n",
    "    myint.append(r.randrange(100,200))\n",
    "\n",
    "print(myint)\n",
    "print(\"the smallest random integer is : \",min(myint))\n"
   ]
  },
  {
   "cell_type": "code",
   "execution_count": 8,
   "metadata": {},
   "outputs": [
    {
     "name": "stdout",
     "output_type": "stream",
     "text": [
      "india  :  rupees \n",
      "\n",
      "USA  :  dollar \n",
      "\n",
      "europe  :  euro \n",
      "\n",
      "russia  :  ruble \n",
      "\n",
      "japan  :  yen \n",
      "\n"
     ]
    }
   ],
   "source": [
    "mydict={\"india\":\"rupees\",\"USA\":\"dollar\",\"europe\":\"euro\",\"russia\":\"ruble\",\"japan\":\"yen\"}\n",
    "\n",
    "for k,v in mydict.items():\n",
    "    print(k,\" : \",v,\"\\n\")"
   ]
  }
 ],
 "metadata": {
  "interpreter": {
   "hash": "4267f7e5d3adce8267fadf13e8d6a83ecb20dae9e50378c07b1d9410e1128995"
  },
  "kernelspec": {
   "display_name": "Python 3.10.4 64-bit",
   "language": "python",
   "name": "python3"
  },
  "language_info": {
   "codemirror_mode": {
    "name": "ipython",
    "version": 3
   },
   "file_extension": ".py",
   "mimetype": "text/x-python",
   "name": "python",
   "nbconvert_exporter": "python",
   "pygments_lexer": "ipython3",
   "version": "3.10.4"
  },
  "orig_nbformat": 4
 },
 "nbformat": 4,
 "nbformat_minor": 2
}
