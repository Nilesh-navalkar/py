{
 "cells": [
  {
   "cell_type": "code",
   "execution_count": 2,
   "metadata": {},
   "outputs": [
    {
     "name": "stdout",
     "output_type": "stream",
     "text": [
      "HELL U WORLD\n",
      "hell u world\n"
     ]
    }
   ],
   "source": [
    "def say(this):\n",
    "    return this.lower()\n",
    "def shout(this):\n",
    "    return this.upper()\n",
    "\n",
    "def speak(method):\n",
    "    print(method(\"hell u world\"))\n",
    "\n",
    "speak(shout)\n",
    "speak(say)"
   ]
  },
  {
   "cell_type": "code",
   "execution_count": 3,
   "metadata": {},
   "outputs": [
    {
     "name": "stdout",
     "output_type": "stream",
     "text": [
      "arithmetic mean :  3.0\n"
     ]
    }
   ],
   "source": [
    "def am(*args):\n",
    "    return sum(args)/len(args)\n",
    "\n",
    "print(\"arithmetic mean : \",am(1,2,3,4,5))"
   ]
  },
  {
   "cell_type": "code",
   "execution_count": 3,
   "metadata": {},
   "outputs": [
    {
     "name": "stdout",
     "output_type": "stream",
     "text": [
      "farm has  5  apples\n",
      "farm has  6  mangoes\n",
      "farm has  3  banannas\n"
     ]
    }
   ],
   "source": [
    "def myfarm(apples,mangoes,bananna):\n",
    "    print(\"farm has \",apples,\" apples\")\n",
    "    print(\"farm has \",mangoes,\" mangoes\")\n",
    "    print(\"farm has \",bananna,\" banannas\")\n",
    "\n",
    "myfarm(bananna=3,apples=5,mangoes=6)"
   ]
  },
  {
   "cell_type": "code",
   "execution_count": 12,
   "metadata": {},
   "outputs": [
    {
     "name": "stdout",
     "output_type": "stream",
     "text": [
      "move disk 1 from  a  to  c\n",
      "move disk  2  from  a  to  b\n",
      "move disk 1 from  c  to  b\n",
      "move disk  3  from  a  to  c\n",
      "move disk 1 from  b  to  a\n",
      "move disk  2  from  b  to  c\n",
      "move disk 1 from  a  to  c\n",
      "move disk  4  from  a  to  b\n",
      "move disk 1 from  c  to  b\n",
      "move disk  2  from  c  to  a\n",
      "move disk 1 from  b  to  a\n",
      "move disk  3  from  c  to  b\n",
      "move disk 1 from  a  to  c\n",
      "move disk  2  from  a  to  b\n",
      "move disk 1 from  c  to  b\n"
     ]
    }
   ],
   "source": [
    "def toh(n,s,d,a):\n",
    "    if(n==1):\n",
    "        print(\"move disk 1 from \",s,\" to \",d)\n",
    "        return\n",
    "    toh(n-1,s,a,d)\n",
    "    print(\"move disk \",n,\" from \",s,\" to \",d)\n",
    "    toh(n-1,a,d,s)\n",
    "\n",
    "toh(4,\"a\",\"b\",\"c\")\n"
   ]
  },
  {
   "cell_type": "code",
   "execution_count": 5,
   "metadata": {},
   "outputs": [
    {
     "name": "stdout",
     "output_type": "stream",
     "text": [
      "3\n"
     ]
    }
   ],
   "source": [
    "a=lambda n1,n2 : n1 if n1>n2 else n2\n",
    "\n",
    "print(a(2,3))"
   ]
  },
  {
   "cell_type": "code",
   "execution_count": 10,
   "metadata": {},
   "outputs": [
    {
     "name": "stdout",
     "output_type": "stream",
     "text": [
      "account created\n",
      "amount deposited: 150.0\n",
      "amount withdrawn: 20.0\n",
      "your interest is : 65.0\n",
      "current balance :  130.0\n"
     ]
    }
   ],
   "source": [
    "class myacc():\n",
    "    def __init__(self):\n",
    "        self.balance=0\n",
    "        self.intrate=0.5\n",
    "        print(\"account created\")\n",
    "    def deposit(self):\n",
    "        amt=float(input(\"enter the amount to deposit\"))\n",
    "        self.balance=self.balance+amt\n",
    "        print(\"amount deposited:\",amt)\n",
    "    def withdraw(self):\n",
    "        amt=float(input(\"enter the amount to withdraw\"))\n",
    "        if amt>self.balance:\n",
    "            print(\"insufficient balance\")\n",
    "        else:\n",
    "            self.balance=self.balance-amt\n",
    "            print(\"amount withdrawn:\",amt)\n",
    "    def computeinterest(self):\n",
    "        print(\"your interest is :\",self.balance*self.intrate)\n",
    "    def displaybal(self):\n",
    "        print(\"current balance : \",self.balance)\n",
    "\n",
    "a=myacc()\n",
    "a.deposit()\n",
    "a.withdraw()\n",
    "a.computeinterest()\n",
    "a.displaybal()"
   ]
  }
 ],
 "metadata": {
  "interpreter": {
   "hash": "4267f7e5d3adce8267fadf13e8d6a83ecb20dae9e50378c07b1d9410e1128995"
  },
  "kernelspec": {
   "display_name": "Python 3.10.4 64-bit",
   "language": "python",
   "name": "python3"
  },
  "language_info": {
   "codemirror_mode": {
    "name": "ipython",
    "version": 3
   },
   "file_extension": ".py",
   "mimetype": "text/x-python",
   "name": "python",
   "nbconvert_exporter": "python",
   "pygments_lexer": "ipython3",
   "version": "3.10.4"
  },
  "orig_nbformat": 4
 },
 "nbformat": 4,
 "nbformat_minor": 2
}
